{
  "cells": [
    {
      "cell_type": "code",
      "execution_count": null,
      "metadata": {
        "colab": {
          "background_save": true
        },
        "id": "FJJQcSphxfCj"
      },
      "outputs": [],
      "source": [
        "from glob import glob\n",
        "import wave\n",
        "import contextlib\n",
        "from google.colab import drive\n",
        "import matplotlib.pyplot as plt"
      ]
    },
    {
      "cell_type": "code",
      "execution_count": null,
      "metadata": {
        "colab": {
          "background_save": true
        },
        "id": "i3Gk7sV4yMi6"
      },
      "outputs": [],
      "source": [
        "drive.mount('/content/drive', force_remount=True) \n",
        "data_dir=r'/content/drive/MyDrive/Punjabi TTS/Dec News/Dec1'\n",
        "audio_files=glob(data_dir +'/*.wav')\n",
        "len(audio_files)"
      ]
    },
    {
      "cell_type": "code",
      "execution_count": null,
      "metadata": {
        "colab": {
          "background_save": true
        },
        "id": "Fds_g4lLQDL_"
      },
      "outputs": [],
      "source": [
        "time=[]\n",
        "for file in range(0,len(audio_files),1):\n",
        "    with contextlib.closing(wave.open(audio_files[file],'r')) as f:\n",
        "          frames = f.getnframes()\n",
        "          rate = f.getframerate()\n",
        "          duration = frames / float(rate)\n",
        "          time.append(duration)\n",
        "plt.hist(time,bins=len(audio_files),rwidth=0.95)"
      ]
    }
  ],
  "metadata": {
    "colab": {
      "collapsed_sections": [],
      "name": "Histogram.ipynb",
      "provenance": []
    },
    "kernelspec": {
      "display_name": "Python 3",
      "name": "python3"
    },
    "language_info": {
      "name": "python"
    }
  },
  "nbformat": 4,
  "nbformat_minor": 0
}